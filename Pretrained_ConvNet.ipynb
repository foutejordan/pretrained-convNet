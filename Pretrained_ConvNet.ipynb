{
  "nbformat": 4,
  "nbformat_minor": 0,
  "metadata": {
    "colab": {
      "provenance": []
    },
    "kernelspec": {
      "name": "python3",
      "display_name": "Python 3"
    },
    "language_info": {
      "name": "python"
    }
  },
  "cells": [
    {
      "cell_type": "code",
      "execution_count": null,
      "metadata": {
        "colab": {
          "base_uri": "https://localhost:8080/"
        },
        "id": "-V66RY2Hjwhy",
        "outputId": "6e0b82fb-17bf-451d-97a1-128f923991ca"
      },
      "outputs": [
        {
          "output_type": "stream",
          "name": "stdout",
          "text": [
            "Downloading data from https://storage.googleapis.com/tensorflow/keras-applications/vgg16/vgg16_weights_tf_dim_ordering_tf_kernels_notop.h5\n",
            "58889256/58889256 [==============================] - 2s 0us/step\n",
            "Model: \"vgg16\"\n",
            "_________________________________________________________________\n",
            " Layer (type)                Output Shape              Param #   \n",
            "=================================================================\n",
            " input_1 (InputLayer)        [(None, 150, 150, 3)]     0         \n",
            "                                                                 \n",
            " block1_conv1 (Conv2D)       (None, 150, 150, 64)      1792      \n",
            "                                                                 \n",
            " block1_conv2 (Conv2D)       (None, 150, 150, 64)      36928     \n",
            "                                                                 \n",
            " block1_pool (MaxPooling2D)  (None, 75, 75, 64)        0         \n",
            "                                                                 \n",
            " block2_conv1 (Conv2D)       (None, 75, 75, 128)       73856     \n",
            "                                                                 \n",
            " block2_conv2 (Conv2D)       (None, 75, 75, 128)       147584    \n",
            "                                                                 \n",
            " block2_pool (MaxPooling2D)  (None, 37, 37, 128)       0         \n",
            "                                                                 \n",
            " block3_conv1 (Conv2D)       (None, 37, 37, 256)       295168    \n",
            "                                                                 \n",
            " block3_conv2 (Conv2D)       (None, 37, 37, 256)       590080    \n",
            "                                                                 \n",
            " block3_conv3 (Conv2D)       (None, 37, 37, 256)       590080    \n",
            "                                                                 \n",
            " block3_pool (MaxPooling2D)  (None, 18, 18, 256)       0         \n",
            "                                                                 \n",
            " block4_conv1 (Conv2D)       (None, 18, 18, 512)       1180160   \n",
            "                                                                 \n",
            " block4_conv2 (Conv2D)       (None, 18, 18, 512)       2359808   \n",
            "                                                                 \n",
            " block4_conv3 (Conv2D)       (None, 18, 18, 512)       2359808   \n",
            "                                                                 \n",
            " block4_pool (MaxPooling2D)  (None, 9, 9, 512)         0         \n",
            "                                                                 \n",
            " block5_conv1 (Conv2D)       (None, 9, 9, 512)         2359808   \n",
            "                                                                 \n",
            " block5_conv2 (Conv2D)       (None, 9, 9, 512)         2359808   \n",
            "                                                                 \n",
            " block5_conv3 (Conv2D)       (None, 9, 9, 512)         2359808   \n",
            "                                                                 \n",
            " block5_pool (MaxPooling2D)  (None, 4, 4, 512)         0         \n",
            "                                                                 \n",
            "=================================================================\n",
            "Total params: 14,714,688\n",
            "Trainable params: 14,714,688\n",
            "Non-trainable params: 0\n",
            "_________________________________________________________________\n"
          ]
        }
      ],
      "source": [
        "#Extraction des carateristiques\n",
        "#Consiste a utiliser les representations apprises par un reseau precedent pour extraire des caracteristiques interessantes dans des nouveaux Exemples\n",
        "#on reutilise la base de convolution et non le reseau entierement connectee car il sont generalement plus generiques\n",
        "#Le niveau de generalisation des representations depend de lamprofondeur de la couche du modele\n",
        "#models dispo dans Keras, tous entrainees sur ImageNet ( Xception, Inception V3, ResNet50, VGG16, VGG19, MobileNet)\n",
        "\n",
        "from keras.applications import VGG16\n",
        "\n",
        "conv_base = VGG16(weights='imagenet', include_top=False, input_shape=(150,150,3))\n",
        "conv_base.summary()"
      ]
    },
    {
      "cell_type": "code",
      "source": [
        "!wget --no-check-certificate \\\n",
        "    https://storage.googleapis.com/mledu-datasets/cats_and_dogs_filtered.zip \\\n",
        "    -O /tmp/cats_and_dogs_filtered.zip"
      ],
      "metadata": {
        "colab": {
          "base_uri": "https://localhost:8080/"
        },
        "id": "XGNq6TPp76PJ",
        "outputId": "b44f4920-651b-42d4-e626-1c80d278c4e7"
      },
      "execution_count": null,
      "outputs": [
        {
          "output_type": "stream",
          "name": "stdout",
          "text": [
            "--2023-02-07 22:12:11--  https://storage.googleapis.com/mledu-datasets/cats_and_dogs_filtered.zip\n",
            "Resolving storage.googleapis.com (storage.googleapis.com)... 142.250.153.128, 142.250.145.128, 108.177.127.128, ...\n",
            "Connecting to storage.googleapis.com (storage.googleapis.com)|142.250.153.128|:443... connected.\n",
            "HTTP request sent, awaiting response... 200 OK\n",
            "Length: 68606236 (65M) [application/zip]\n",
            "Saving to: ‘/tmp/cats_and_dogs_filtered.zip’\n",
            "\n",
            "/tmp/cats_and_dogs_ 100%[===================>]  65.43M  28.8MB/s    in 2.3s    \n",
            "\n",
            "2023-02-07 22:12:13 (28.8 MB/s) - ‘/tmp/cats_and_dogs_filtered.zip’ saved [68606236/68606236]\n",
            "\n"
          ]
        }
      ]
    },
    {
      "cell_type": "code",
      "source": [
        "import os\n",
        "import zipfile\n",
        "\n",
        "local_zip = '/tmp/cats_and_dogs_filtered.zip'\n",
        "zip_ref = zipfile.ZipFile(local_zip, 'r')\n",
        "zip_ref.extractall('/tmp')\n",
        "zip_ref.close()"
      ],
      "metadata": {
        "id": "u2SHJDSh79mz"
      },
      "execution_count": null,
      "outputs": []
    },
    {
      "cell_type": "code",
      "source": [
        "# on ajoutera le classifieur entierement connecte sur la carte finale de caracteristique de la forme (4,4,512)\n",
        "#Extraction des carateristiques sans augmentation des donnees\n",
        "\n",
        "import os\n",
        "import numpy as np\n",
        "\n",
        "from keras.preprocessing.image import ImageDataGenerator\n",
        "\n",
        "base_dir = '/tmp/cats_and_dogs_filtered/'\n",
        "\n",
        "train_dir = '/tmp/cats_and_dogs_filtered/train'\n",
        "\n",
        "validation_dir = '/tmp/cats_and_dogs_filtered/validation'\n",
        "\n",
        "datagen = ImageDataGenerator(rescale=1./255)\n",
        "batch_size = 20\n",
        "\n",
        "def extract_features(directory, sample_count):\n",
        "  features = np.zeros(shape=(sample_count, 4, 4, 512))\n",
        "  labels = np.zeros(shape=(sample_count))\n",
        "  generator = datagen.flow_from_directory(directory,\n",
        "                                          target_size=(150, 150),\n",
        "                                          batch_size=batch_size,\n",
        "                                          class_mode='binary')\n",
        "  i = 0\n",
        "  for inputs_batch, labels_batch in generator:\n",
        "    features_batch = conv_base.predict(inputs_batch)\n",
        "    features[i * batch_size : (i + 1) * batch_size] = features_batch\n",
        "    labels[i * batch_size : (i + 1) * batch_size] = labels_batch\n",
        "    i += 1\n",
        "    if i * batch_size >= sample_count:\n",
        "      #Comme les generateur produise des donnees indefiniment dans une boucle, on doit utiliser\n",
        "      # break\" apres que chaque image aura ete vue une fois\n",
        "      break\n",
        "  return features, labels\n",
        "\n",
        "train_features, train_labels = extract_features(train_dir, 2000)\n",
        "validation_features, validation_labels = extract_features(validation_dir, 1000)\n",
        "\n",
        "#les caracteristiques extraites sont de la forme (sample_count, 4, 4, 512), on les envoie au reseau entierement connecte, \n",
        "#mais avant on doit les applatir\n",
        "\n",
        "train_features = np.reshape(train_features, (2000, 4 * 4 * 512))\n",
        "validation_features = np.reshape(validation_features, (1000, 4 * 4 * 512))\n",
        "\n"
      ],
      "metadata": {
        "colab": {
          "base_uri": "https://localhost:8080/"
        },
        "id": "za_B5R-fx3HJ",
        "outputId": "6ae711dd-c699-4d59-d71d-fb92fdc22adf"
      },
      "execution_count": null,
      "outputs": [
        {
          "output_type": "stream",
          "name": "stdout",
          "text": [
            "Found 2000 images belonging to 2 classes.\n",
            "1/1 [==============================] - 4s 4s/step\n",
            "1/1 [==============================] - 4s 4s/step\n",
            "1/1 [==============================] - 4s 4s/step\n",
            "1/1 [==============================] - 4s 4s/step\n",
            "1/1 [==============================] - 4s 4s/step\n",
            "1/1 [==============================] - 4s 4s/step\n",
            "1/1 [==============================] - 4s 4s/step\n",
            "1/1 [==============================] - 4s 4s/step\n",
            "1/1 [==============================] - 4s 4s/step\n",
            "1/1 [==============================] - 6s 6s/step\n",
            "1/1 [==============================] - 4s 4s/step\n",
            "1/1 [==============================] - 4s 4s/step\n",
            "1/1 [==============================] - 5s 5s/step\n",
            "1/1 [==============================] - 4s 4s/step\n",
            "1/1 [==============================] - 4s 4s/step\n",
            "1/1 [==============================] - 4s 4s/step\n",
            "1/1 [==============================] - 4s 4s/step\n",
            "1/1 [==============================] - 4s 4s/step\n",
            "1/1 [==============================] - 4s 4s/step\n",
            "1/1 [==============================] - 4s 4s/step\n",
            "1/1 [==============================] - 4s 4s/step\n",
            "1/1 [==============================] - 4s 4s/step\n",
            "1/1 [==============================] - 4s 4s/step\n",
            "1/1 [==============================] - 4s 4s/step\n",
            "1/1 [==============================] - 5s 5s/step\n",
            "1/1 [==============================] - 4s 4s/step\n",
            "1/1 [==============================] - 4s 4s/step\n",
            "1/1 [==============================] - 5s 5s/step\n",
            "1/1 [==============================] - 4s 4s/step\n",
            "1/1 [==============================] - 4s 4s/step\n",
            "1/1 [==============================] - 5s 5s/step\n",
            "1/1 [==============================] - 4s 4s/step\n",
            "1/1 [==============================] - 4s 4s/step\n",
            "1/1 [==============================] - 5s 5s/step\n",
            "1/1 [==============================] - 4s 4s/step\n",
            "1/1 [==============================] - 4s 4s/step\n",
            "1/1 [==============================] - 5s 5s/step\n",
            "1/1 [==============================] - 4s 4s/step\n",
            "1/1 [==============================] - 4s 4s/step\n",
            "1/1 [==============================] - 5s 5s/step\n",
            "1/1 [==============================] - 4s 4s/step\n",
            "1/1 [==============================] - 4s 4s/step\n",
            "1/1 [==============================] - 5s 5s/step\n",
            "1/1 [==============================] - 4s 4s/step\n",
            "1/1 [==============================] - 4s 4s/step\n",
            "1/1 [==============================] - 5s 5s/step\n",
            "1/1 [==============================] - 4s 4s/step\n",
            "1/1 [==============================] - 4s 4s/step\n",
            "1/1 [==============================] - 5s 5s/step\n",
            "1/1 [==============================] - 4s 4s/step\n",
            "1/1 [==============================] - 4s 4s/step\n",
            "1/1 [==============================] - 5s 5s/step\n",
            "1/1 [==============================] - 5s 5s/step\n",
            "1/1 [==============================] - 6s 6s/step\n",
            "1/1 [==============================] - 4s 4s/step\n",
            "1/1 [==============================] - 5s 5s/step\n",
            "1/1 [==============================] - 7s 7s/step\n",
            "1/1 [==============================] - 4s 4s/step\n",
            "1/1 [==============================] - 5s 5s/step\n",
            "1/1 [==============================] - 4s 4s/step\n",
            "1/1 [==============================] - 5s 5s/step\n",
            "1/1 [==============================] - 6s 6s/step\n",
            "1/1 [==============================] - 5s 5s/step\n",
            "1/1 [==============================] - 6s 6s/step\n",
            "1/1 [==============================] - 4s 4s/step\n",
            "1/1 [==============================] - 5s 5s/step\n",
            "1/1 [==============================] - 6s 6s/step\n",
            "1/1 [==============================] - 4s 4s/step\n",
            "1/1 [==============================] - 6s 6s/step\n",
            "1/1 [==============================] - 5s 5s/step\n",
            "1/1 [==============================] - 4s 4s/step\n",
            "1/1 [==============================] - 5s 5s/step\n",
            "1/1 [==============================] - 6s 6s/step\n",
            "1/1 [==============================] - 5s 5s/step\n",
            "1/1 [==============================] - 5s 5s/step\n",
            "1/1 [==============================] - 6s 6s/step\n",
            "1/1 [==============================] - 5s 5s/step\n",
            "1/1 [==============================] - 4s 4s/step\n",
            "1/1 [==============================] - 5s 5s/step\n",
            "1/1 [==============================] - 4s 4s/step\n",
            "1/1 [==============================] - 4s 4s/step\n",
            "1/1 [==============================] - 5s 5s/step\n",
            "1/1 [==============================] - 4s 4s/step\n",
            "1/1 [==============================] - 4s 4s/step\n",
            "1/1 [==============================] - 5s 5s/step\n",
            "1/1 [==============================] - 4s 4s/step\n",
            "1/1 [==============================] - 4s 4s/step\n",
            "1/1 [==============================] - 5s 5s/step\n",
            "1/1 [==============================] - 4s 4s/step\n",
            "1/1 [==============================] - 5s 5s/step\n",
            "1/1 [==============================] - 6s 6s/step\n",
            "1/1 [==============================] - 4s 4s/step\n",
            "1/1 [==============================] - 5s 5s/step\n",
            "1/1 [==============================] - 4s 4s/step\n",
            "1/1 [==============================] - 4s 4s/step\n",
            "1/1 [==============================] - 6s 6s/step\n",
            "1/1 [==============================] - 6s 6s/step\n",
            "1/1 [==============================] - 7s 7s/step\n",
            "1/1 [==============================] - 4s 4s/step\n",
            "1/1 [==============================] - 5s 5s/step\n",
            "Found 1000 images belonging to 2 classes.\n",
            "1/1 [==============================] - 4s 4s/step\n",
            "1/1 [==============================] - 5s 5s/step\n",
            "1/1 [==============================] - 4s 4s/step\n",
            "1/1 [==============================] - 4s 4s/step\n",
            "1/1 [==============================] - 4s 4s/step\n",
            "1/1 [==============================] - 4s 4s/step\n",
            "1/1 [==============================] - 4s 4s/step\n",
            "1/1 [==============================] - 4s 4s/step\n",
            "1/1 [==============================] - 4s 4s/step\n",
            "1/1 [==============================] - 4s 4s/step\n",
            "1/1 [==============================] - 4s 4s/step\n",
            "1/1 [==============================] - 4s 4s/step\n",
            "1/1 [==============================] - 4s 4s/step\n",
            "1/1 [==============================] - 4s 4s/step\n",
            "1/1 [==============================] - 4s 4s/step\n",
            "1/1 [==============================] - 4s 4s/step\n",
            "1/1 [==============================] - 4s 4s/step\n",
            "1/1 [==============================] - 4s 4s/step\n",
            "1/1 [==============================] - 4s 4s/step\n",
            "1/1 [==============================] - 4s 4s/step\n",
            "1/1 [==============================] - 4s 4s/step\n",
            "1/1 [==============================] - 4s 4s/step\n",
            "1/1 [==============================] - 4s 4s/step\n",
            "1/1 [==============================] - 5s 5s/step\n",
            "1/1 [==============================] - 4s 4s/step\n",
            "1/1 [==============================] - 4s 4s/step\n",
            "1/1 [==============================] - 5s 5s/step\n",
            "1/1 [==============================] - 4s 4s/step\n",
            "1/1 [==============================] - 4s 4s/step\n",
            "1/1 [==============================] - 5s 5s/step\n",
            "1/1 [==============================] - 4s 4s/step\n",
            "1/1 [==============================] - 5s 5s/step\n",
            "1/1 [==============================] - 4s 4s/step\n",
            "1/1 [==============================] - 4s 4s/step\n",
            "1/1 [==============================] - 4s 4s/step\n",
            "1/1 [==============================] - 4s 4s/step\n",
            "1/1 [==============================] - 4s 4s/step\n",
            "1/1 [==============================] - 5s 5s/step\n",
            "1/1 [==============================] - 4s 4s/step\n",
            "1/1 [==============================] - 4s 4s/step\n",
            "1/1 [==============================] - 5s 5s/step\n",
            "1/1 [==============================] - 5s 5s/step\n",
            "1/1 [==============================] - 5s 5s/step\n",
            "1/1 [==============================] - 5s 5s/step\n",
            "1/1 [==============================] - 6s 6s/step\n",
            "1/1 [==============================] - 7s 7s/step\n",
            "1/1 [==============================] - 5s 5s/step\n",
            "1/1 [==============================] - 5s 5s/step\n",
            "1/1 [==============================] - 5s 5s/step\n",
            "1/1 [==============================] - 4s 4s/step\n"
          ]
        }
      ]
    },
    {
      "cell_type": "code",
      "source": [
        "#Definition su reseau entierement connecte\n",
        "from keras import models\n",
        "from keras import layers\n",
        "from keras import optimizers\n",
        "\n",
        "model = models.Sequential()\n",
        "model.add(layers.Dense(256, activation='relu', input_dim=4 * 4 * 512))\n",
        "model.add(layers.Dropout(0.5))\n",
        "model.add(layers.Dense(1, activation='sigmoid'))\n",
        "\n",
        "model.compile(optimizer = optimizers.RMSprop(lr=2e-5), loss='binary_crossentropy', metrics=['acc'])\n",
        "\n",
        "history = model.fit(train_features, train_labels, epochs=30, batch_size=20, validation_data=(validation_features, validation_labels))"
      ],
      "metadata": {
        "colab": {
          "base_uri": "https://localhost:8080/"
        },
        "id": "ApueLZxX8zGn",
        "outputId": "03b6429a-d71a-44ae-b8c3-4e6bc99a7175"
      },
      "execution_count": null,
      "outputs": [
        {
          "output_type": "stream",
          "name": "stderr",
          "text": [
            "/usr/local/lib/python3.8/dist-packages/keras/optimizers/optimizer_v2/rmsprop.py:135: UserWarning: The `lr` argument is deprecated, use `learning_rate` instead.\n",
            "  super(RMSprop, self).__init__(name, **kwargs)\n"
          ]
        },
        {
          "output_type": "stream",
          "name": "stdout",
          "text": [
            "Epoch 1/30\n",
            "100/100 [==============================] - 3s 22ms/step - loss: 0.5896 - acc: 0.6830 - val_loss: 0.4329 - val_acc: 0.8420\n",
            "Epoch 2/30\n",
            "100/100 [==============================] - 2s 24ms/step - loss: 0.4162 - acc: 0.8145 - val_loss: 0.3706 - val_acc: 0.8460\n",
            "Epoch 3/30\n",
            "100/100 [==============================] - 2s 19ms/step - loss: 0.3536 - acc: 0.8525 - val_loss: 0.3265 - val_acc: 0.8700\n",
            "Epoch 4/30\n",
            "100/100 [==============================] - 2s 18ms/step - loss: 0.3116 - acc: 0.8720 - val_loss: 0.3276 - val_acc: 0.8660\n",
            "Epoch 5/30\n",
            "100/100 [==============================] - 2s 19ms/step - loss: 0.2859 - acc: 0.8785 - val_loss: 0.2956 - val_acc: 0.8730\n",
            "Epoch 6/30\n",
            "100/100 [==============================] - 2s 19ms/step - loss: 0.2548 - acc: 0.8995 - val_loss: 0.2925 - val_acc: 0.8680\n",
            "Epoch 7/30\n",
            "100/100 [==============================] - 2s 18ms/step - loss: 0.2487 - acc: 0.9010 - val_loss: 0.2837 - val_acc: 0.8860\n",
            "Epoch 8/30\n",
            "100/100 [==============================] - 3s 26ms/step - loss: 0.2236 - acc: 0.9165 - val_loss: 0.2718 - val_acc: 0.8920\n",
            "Epoch 9/30\n",
            "100/100 [==============================] - 2s 21ms/step - loss: 0.2174 - acc: 0.9165 - val_loss: 0.2766 - val_acc: 0.8900\n",
            "Epoch 10/30\n",
            "100/100 [==============================] - 2s 20ms/step - loss: 0.2009 - acc: 0.9260 - val_loss: 0.2676 - val_acc: 0.8900\n",
            "Epoch 11/30\n",
            "100/100 [==============================] - 2s 19ms/step - loss: 0.1927 - acc: 0.9320 - val_loss: 0.2658 - val_acc: 0.8860\n",
            "Epoch 12/30\n",
            "100/100 [==============================] - 2s 19ms/step - loss: 0.1914 - acc: 0.9335 - val_loss: 0.2627 - val_acc: 0.8860\n",
            "Epoch 13/30\n",
            "100/100 [==============================] - 2s 18ms/step - loss: 0.1688 - acc: 0.9425 - val_loss: 0.2721 - val_acc: 0.8900\n",
            "Epoch 14/30\n",
            "100/100 [==============================] - 2s 22ms/step - loss: 0.1697 - acc: 0.9420 - val_loss: 0.2598 - val_acc: 0.8880\n",
            "Epoch 15/30\n",
            "100/100 [==============================] - 2s 22ms/step - loss: 0.1606 - acc: 0.9430 - val_loss: 0.2598 - val_acc: 0.8860\n",
            "Epoch 16/30\n",
            "100/100 [==============================] - 2s 19ms/step - loss: 0.1557 - acc: 0.9440 - val_loss: 0.2586 - val_acc: 0.8890\n",
            "Epoch 17/30\n",
            "100/100 [==============================] - 2s 18ms/step - loss: 0.1482 - acc: 0.9475 - val_loss: 0.2579 - val_acc: 0.8870\n",
            "Epoch 18/30\n",
            "100/100 [==============================] - 2s 18ms/step - loss: 0.1424 - acc: 0.9490 - val_loss: 0.2559 - val_acc: 0.8860\n",
            "Epoch 19/30\n",
            "100/100 [==============================] - 2s 19ms/step - loss: 0.1381 - acc: 0.9515 - val_loss: 0.2575 - val_acc: 0.8800\n",
            "Epoch 20/30\n",
            "100/100 [==============================] - 2s 23ms/step - loss: 0.1315 - acc: 0.9555 - val_loss: 0.2605 - val_acc: 0.8830\n",
            "Epoch 21/30\n",
            "100/100 [==============================] - 2s 22ms/step - loss: 0.1235 - acc: 0.9600 - val_loss: 0.2673 - val_acc: 0.8830\n",
            "Epoch 22/30\n",
            "100/100 [==============================] - 2s 19ms/step - loss: 0.1179 - acc: 0.9585 - val_loss: 0.2554 - val_acc: 0.8850\n",
            "Epoch 23/30\n",
            "100/100 [==============================] - 2s 18ms/step - loss: 0.1138 - acc: 0.9635 - val_loss: 0.2648 - val_acc: 0.8880\n",
            "Epoch 24/30\n",
            "100/100 [==============================] - 2s 18ms/step - loss: 0.1096 - acc: 0.9635 - val_loss: 0.2561 - val_acc: 0.8830\n",
            "Epoch 25/30\n",
            "100/100 [==============================] - 2s 18ms/step - loss: 0.1053 - acc: 0.9700 - val_loss: 0.2575 - val_acc: 0.8870\n",
            "Epoch 26/30\n",
            "100/100 [==============================] - 2s 18ms/step - loss: 0.1055 - acc: 0.9665 - val_loss: 0.2550 - val_acc: 0.8840\n",
            "Epoch 27/30\n",
            "100/100 [==============================] - 2s 24ms/step - loss: 0.0969 - acc: 0.9670 - val_loss: 0.2593 - val_acc: 0.8920\n",
            "Epoch 28/30\n",
            "100/100 [==============================] - 2s 17ms/step - loss: 0.0950 - acc: 0.9725 - val_loss: 0.2579 - val_acc: 0.8850\n",
            "Epoch 29/30\n",
            "100/100 [==============================] - 2s 18ms/step - loss: 0.0954 - acc: 0.9735 - val_loss: 0.2582 - val_acc: 0.8850\n",
            "Epoch 30/30\n",
            "100/100 [==============================] - 2s 18ms/step - loss: 0.0855 - acc: 0.9765 - val_loss: 0.2606 - val_acc: 0.8860\n"
          ]
        }
      ]
    },
    {
      "cell_type": "code",
      "source": [
        "#tracement des courbes de pertes et d'exactitude pendant la phase d'entrainement du ,model\n",
        "import matplotlib.pyplot as plt\n",
        "\n",
        "acc = history.history['acc']\n",
        "val_acc = history.history['val_acc']\n",
        "loss = history.history['loss']\n",
        "val_loss = history.history['val_loss']\n",
        "\n",
        "epochs = range(1, len(acc) + 1)\n",
        "plt.plot(epochs, acc, 'bo', label='Entrainement')\n",
        "plt.plot(epochs, val_acc, 'b', label='Validation')\n",
        "plt.title('Exactitude pendant l\\'entrainement et validation')\n",
        "plt.legend()\n",
        "\n",
        "plt.figure()\n",
        "\n",
        "plt.plot(epochs, loss, 'bo', label='Entrainement')\n",
        "plt.plot(epochs, val_loss, 'b', label='Validation')\n",
        "plt.title('perte pendant l\\'entrainement et validation')\n",
        "plt.legend()\n",
        "\n",
        "plt.show()"
      ],
      "metadata": {
        "colab": {
          "base_uri": "https://localhost:8080/",
          "height": 545
        },
        "id": "yBd7u_PIBMXU",
        "outputId": "6cc8599b-b203-41b5-d005-d403c5b98264"
      },
      "execution_count": null,
      "outputs": [
        {
          "output_type": "display_data",
          "data": {
            "text/plain": [
              "<Figure size 432x288 with 1 Axes>"
            ],
            "image/png": "[encoded data removed]"
          },
          "metadata": {
            "needs_background": "light"
          }
        },
        {
          "output_type": "display_data",
          "data": {
            "text/plain": [
              "<Figure size 432x288 with 1 Axes>"
            ],
            "image/png": "[encoded data removed]"
          },
          "metadata": {
            "needs_background": "light"
          }
        }
      ]
    },
    {
      "cell_type": "code",
      "source": [
        "#reseau en sur ajustement malgre le Dropout , on doit utiliser la data augmentation\n",
        "#technique trop couteuse car on l'utilise pendant l'entrainement des donnees\n",
        "\n",
        "#figer une couche signifie empecher la mise a jour des poids pendant l'entrainement (conv_base.trainable = False)\n",
        "\n",
        "#A part l'extraction des carateristiques, on peut utiliser le reglage de precision. il s'agit de liberer, dans le model figer,\n",
        "# quelques couches superieur de la base de convolution qui est utiliser pour l'extraction des caracteristiques et a l'entrainer \n",
        "#conjointement avec la partie nouvellement ajoutee du modele(dans ce cas le classifieur)  et ses couches superieures liberees\n",
        "#Etapes de reglage de precision \n",
        "#1) Ajouter le reseau personnalise au-dessus d'un reseau de base deja entrainnee\n",
        "#2) Figer le reseau de base\n",
        "#3) Entrainer la partie\n",
        "#4) liberer certaines couche du reseau de base\n",
        "#5) Entrainer conjointement ces couches liberees et le reseau ajoutee"
      ],
      "metadata": {
        "id": "qcSmg9H9DCUW"
      },
      "execution_count": null,
      "outputs": []
    }
  ]
}